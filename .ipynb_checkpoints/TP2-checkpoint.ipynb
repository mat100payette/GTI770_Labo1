{
 "cells": [
  {
   "cell_type": "code",
   "execution_count": 1,
   "metadata": {},
   "outputs": [],
   "source": [
    "## GTI770 - TP2"
   ]
  },
  {
   "cell_type": "code",
   "execution_count": 28,
   "metadata": {},
   "outputs": [],
   "source": [
    "%matplotlib inline   \n",
    "import matplotlib.pyplot as plt\n",
    "import numpy as np\n",
    "import os\n",
    "import cv2\n",
    "import graphviz\n",
    "from sklearn import tree\n",
    "from sklearn.naive_bayes import BernoulliNB\n",
    "from sklearn.metrics import accuracy_score"
   ]
  },
  {
   "cell_type": "code",
   "execution_count": 30,
   "metadata": {},
   "outputs": [],
   "source": [
    "# Get some images\n",
    "fid = open('galaxy_feature_vectors.csv', 'r') \n",
    "\n",
    "NbGalaxy = 100\n",
    "Galaxies = np.zeros((NbGalaxy, 76), dtype=object)\n",
    "\n",
    "count = 0\n",
    "count_smooth = 0\n",
    "count_spiral = 0\n",
    "\n",
    "for line in fid:\n",
    "    element = line.rstrip('\\n').split(',')\n",
    "    \n",
    "    label = float(element[75])\n",
    "    \n",
    "    if label == 0.0 and count_smooth < NbGalaxy/2:\n",
    "        count_smooth += 1     \n",
    "    elif label == 1.0 and count_spiral < NbGalaxy/2:\n",
    "        count_spiral += 1\n",
    "    else:\n",
    "        continue\n",
    "    \n",
    "    Galaxies[count] = element\n",
    "    \n",
    "    count += 1\n",
    "    if count >= NbGalaxy:\n",
    "        break\n",
    "\n",
    "fid.close() \n",
    "\n",
    "# ----- For debug -----\n",
    "#print(count_smooth)\n",
    "#print(count_spiral)\n",
    "#print(count)\n",
    "#print(Galaxies)\n",
    "#----------------------"
   ]
  },
  {
   "cell_type": "code",
   "execution_count": 37,
   "metadata": {},
   "outputs": [],
   "source": [
    "# Get some mails\n",
    "fid = open('spam.csv', 'r') \n",
    "\n",
    "NbMails = 100\n",
    "Filter = np.zeros((NbMails, 58), dtype=object)\n",
    "\n",
    "count = 0\n",
    "count_spam = 0\n",
    "count_mail = 0\n",
    "\n",
    "for line in fid:\n",
    "    element = line.rstrip('\\n').split(',')\n",
    "    \n",
    "    if element[57] == '0' and count_mail < NbMails/2:\n",
    "        count_mail += 1     \n",
    "    elif element[57] == '1' and count_spam < NbMails/2:\n",
    "        count_spam += 1\n",
    "    else:\n",
    "        continue\n",
    "    \n",
    "    Filter[count] = element\n",
    "    \n",
    "    count += 1\n",
    "    if count >= NbMails:\n",
    "        break\n",
    "\n",
    "fid.close() \n",
    "\n",
    "# ----- For debug -----\n",
    "#print(count_spam)\n",
    "#print(count_mail)\n",
    "#print(count)\n",
    "#print(Filter)\n",
    "#----------------------"
   ]
  },
  {
   "cell_type": "code",
   "execution_count": 42,
   "metadata": {},
   "outputs": [],
   "source": [
    "def SplitVectorDataTrainValTest(primitives_vector):\n",
    "    \n",
    "    size = len(primitives_vector)\n",
    "    \n",
    "    val_portion = (1 - train_portion) / 2\n",
    "    test_portion = (1 - train_portion) / 2\n",
    "\n",
    "    nbTrain = int(size * train_portion)\n",
    "    nbVal = int(size * val_portion)\n",
    "    nbTest = int(size * test_portion)\n",
    "\n",
    "    array_train = np.zeros((nbTrain, size), dtype=object)\n",
    "    array_val = np.zeros((nbVal, size), dtype=object)\n",
    "    array_test = np.zeros((nbTest, size), dtype=object)\n",
    "\n",
    "    array_train = primitives_vector[:nbTrain]\n",
    "    array_val = primitives_vector[nbTrain : nbTrain + nbVal]\n",
    "    array_test = primitives_vector[-nbTest:]\n",
    "    return array_train, array_val, array_test\n",
    "\n",
    "def GenerateModelDataFromVector(array_train, array_val, array_test, num_features, train_portion, chosen_model):\n",
    "    \n",
    "    num_features = num_features - 1\n",
    "    \n",
    "    \n",
    "    data_train = array_train\n",
    "    X_train_tree  = data_train[:,0:num_features]\n",
    "    Y_train_tree  = data_train[:,num_features]\n",
    "    \n",
    "    data_val = array_val\n",
    "    X_val_tree  = data_val[:,0:num_features]\n",
    "    Y_val_tree  = data_val[:,num_features]\n",
    "    \n",
    "    data_test = array_test\n",
    "    X_test_tree  = data_test[:,0:num_features]\n",
    "    Y_test_tree  = data_test[:,num_features]\n",
    "    \n",
    "    \n",
    "    model = chosen_model()\n",
    "    model = model.fit(X_train_tree, Y_train_tree)\n",
    "    prediction_train = model.predict(X_train_tree)\n",
    "    prediction_val = model.predict(X_val_tree)\n",
    "    prediction_test = model.predict(X_test_tree)\n",
    "    return model, prediction_train, prediction_val, prediction_test, Y_train_tree, Y_val_tree, Y_test_tree"
   ]
  },
  {
   "cell_type": "code",
   "execution_count": 43,
   "metadata": {},
   "outputs": [],
   "source": [
    "def DecisionTree():\n",
    "    return tree.DecisionTreeClassifier(criterion='entropy', max_depth=9, min_samples_leaf=6)"
   ]
  },
  {
   "cell_type": "code",
   "execution_count": null,
   "metadata": {},
   "outputs": [],
   "source": [
    "GenerateModelDataFromVector(Filter,len(Filter[0]),0.6, DecisionTree)"
   ]
  },
  {
   "cell_type": "code",
   "execution_count": 44,
   "metadata": {},
   "outputs": [],
   "source": [
    "# Export Tree\n",
    "\n",
    "model, prediction_train, prediction_val, prediction_test, Y_train_tree, Y_val_tree, Y_test_tree = GenerateModelDataFromVector(Filter,len(Filter[0]),0.6, DecisionTree)\n",
    "\n",
    "def ShowAccScore(Y_tree, prediction, name):\n",
    "    print(\"Accuracy score for %s values = %f\" %(name, accuracy_score(Y_tree, prediction)))\n",
    "\n",
    "def ExportTree():\n",
    "    dot_data = tree.export_graphviz(model, out_file=None, \n",
    "                         feature_names = ['ratio longueur/largeur', 'pixels blanches grayscale', 'pixels bleu'],  \n",
    "                         class_names = ['smooth', 'spiral'],\n",
    "                         filled=True, rounded=True,  \n",
    "                         special_characters=True)  \n",
    "    graph = graphviz.Source(dot_data)\n",
    "    graph.format = 'png'\n",
    "    graph.render(\"Galaxy_data\") \n",
    "    return graph\n",
    "\n",
    "#ExportTree()"
   ]
  },
  {
   "cell_type": "code",
   "execution_count": 45,
   "metadata": {},
   "outputs": [
    {
     "name": "stdout",
     "output_type": "stream",
     "text": [
      "Accuracy score for train values = 0.883333\n",
      "Accuracy score for validation values = 0.750000\n",
      "Accuracy score for test values = 0.500000\n"
     ]
    }
   ],
   "source": [
    "ShowAccScore(Y_train_tree, prediction_train, \"train\")\n",
    "ShowAccScore(Y_val_tree, prediction_val, \"validation\") \n",
    "ShowAccScore(Y_test_tree, prediction_test, \"test\")\n",
    "#ExportTree()"
   ]
  },
  {
   "cell_type": "code",
   "execution_count": null,
   "metadata": {},
   "outputs": [],
   "source": []
  }
 ],
 "metadata": {
  "kernelspec": {
   "display_name": "Python 3",
   "language": "python",
   "name": "python3"
  },
  "language_info": {
   "codemirror_mode": {
    "name": "ipython",
    "version": 3
   },
   "file_extension": ".py",
   "mimetype": "text/x-python",
   "name": "python",
   "nbconvert_exporter": "python",
   "pygments_lexer": "ipython3",
   "version": "3.6.5"
  }
 },
 "nbformat": 4,
 "nbformat_minor": 2
}
